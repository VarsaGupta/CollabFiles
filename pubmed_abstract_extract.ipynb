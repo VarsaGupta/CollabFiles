{
  "cells": [
    {
      "cell_type": "markdown",
      "metadata": {
        "id": "view-in-github",
        "colab_type": "text"
      },
      "source": [
        "<a href=\"https://colab.research.google.com/github/VarsaGupta/CollabFiles/blob/main/pubmed_abstract_extract.ipynb\" target=\"_parent\"><img src=\"https://colab.research.google.com/assets/colab-badge.svg\" alt=\"Open In Colab\"/></a>"
      ]
    },
    {
      "cell_type": "code",
      "execution_count": 1,
      "metadata": {
        "id": "a-4c67wVaCTk"
      },
      "outputs": [],
      "source": [
        "import csv\n",
        "import re\n",
        "import urllib\n",
        "from time import sleep\n",
        "import requests\n",
        "from bs4 import BeautifulSoup"
      ]
    },
    {
      "cell_type": "code",
      "execution_count": 2,
      "metadata": {
        "colab": {
          "base_uri": "https://localhost:8080/"
        },
        "id": "sOQTKrPobM5O",
        "outputId": "2f99dd90-a7fd-4c54-ca1c-35db521a0226"
      },
      "outputs": [
        {
          "output_type": "stream",
          "name": "stdout",
          "text": [
            "Query:\"Heart+transplant\"\n"
          ]
        }
      ],
      "source": [
        "query = \"Heart transplant\"\n",
        "\n",
        "def format_query(search_query):\n",
        "  if ' ' not in search_query:\n",
        "    query = search_query\n",
        "  else:\n",
        "    query = '\"' + '+'.join(search_query.split()) + '\"'\n",
        "  return query\n",
        "\n",
        "query = format_query(query)\n",
        "print(\"Query:\" + query)"
      ]
    },
    {
      "cell_type": "code",
      "source": [
        "# code\n",
        "\n",
        "base_url = 'https://eutils.ncbi.nlm.nih.gov/entrez/eutils/'\n",
        "db = 'db=pubmed'\n",
        "\n",
        "# Modify the search term to include the desired publication date range\n",
        "search_term = '&term=' + query + '+AND+<1900:1989[pdat]'\n",
        "\n",
        "search_eutil = 'esearch.fcgi?'\n",
        "search_usehistory = '&usehistory=y'\n",
        "search_rettype = '&rettype=json'\n",
        "\n",
        "search_url = base_url + search_eutil + db + search_term + search_usehistory + search_rettype\n",
        "print(search_url)\n"
      ],
      "metadata": {
        "colab": {
          "base_uri": "https://localhost:8080/"
        },
        "id": "AAktnU8k7zb6",
        "outputId": "41fe95c1-7562-4e39-d63e-6c0456775f19"
      },
      "execution_count": 19,
      "outputs": [
        {
          "output_type": "stream",
          "name": "stdout",
          "text": [
            "https://eutils.ncbi.nlm.nih.gov/entrez/eutils/esearch.fcgi?db=pubmed&term=\"Heart+transplant\"+AND+<1900:1989[pdat]&usehistory=y&rettype=json\n"
          ]
        }
      ]
    },
    {
      "cell_type": "code",
      "source": [
        "# code\n",
        "\n",
        "import ssl\n",
        "\n",
        "context = ssl._create_unverified_context()"
      ],
      "metadata": {
        "id": "rdJ1u3eY8rtk"
      },
      "execution_count": 21,
      "outputs": []
    },
    {
      "cell_type": "code",
      "source": [
        "# code\n",
        "# Fetching search results\n",
        "f = urllib.request.urlopen(search_url)\n",
        "search_data = f.read().decode('utf-8')\n",
        "total_abstract_count = int(re.findall(\"<Count>(\\d+?)</Count>\", search_data)[0])\n",
        "print(total_abstract_count)"
      ],
      "metadata": {
        "colab": {
          "base_uri": "https://localhost:8080/"
        },
        "id": "RdQHfYKw8__E",
        "outputId": "2540215a-893b-460c-c39b-e99bf9eaedb1"
      },
      "execution_count": 22,
      "outputs": [
        {
          "output_type": "stream",
          "name": "stdout",
          "text": [
            "826\n"
          ]
        }
      ]
    },
    {
      "cell_type": "code",
      "source": [
        "# Extracting WebEnv and query_key\n",
        "fetch_webenv = '&WebEnv=' + re.findall(\"<WebEnv>(\\S+)<\\/WebEnv>\", search_data)[0]\n",
        "fetch_querykey = '&query_key=' + re.findall(\"<QueryKey>(\\d+?)</QueryKey>\", search_data)[0]\n"
      ],
      "metadata": {
        "id": "l1uus6bk9ACC"
      },
      "execution_count": 23,
      "outputs": []
    },
    {
      "cell_type": "code",
      "source": [
        "# Building fetch URL\n",
        "fetch_eutil = 'efetch.fcgi?'\n",
        "retmax = 100\n",
        "retstart = 0\n",
        "fetch_retstart = \"&retstart=\" + str(retstart)\n",
        "fetch_retmax = \"&retmax=\" + str(retmax)\n",
        "fetch_retmode = \"&retmode=text\"\n",
        "fetch_rettype = \"&rettype=abstract\"\n",
        "\n",
        "fetch_url = base_url + fetch_eutil + db + fetch_querykey + fetch_webenv + fetch_retstart + fetch_retmax + fetch_retmode + fetch_rettype\n"
      ],
      "metadata": {
        "id": "YrDqkULQ9AGB"
      },
      "execution_count": 24,
      "outputs": []
    },
    {
      "cell_type": "code",
      "source": [
        "# code\n",
        "# Function to download webpage content\n",
        "def download_webpage(url):\n",
        "  response = requests.get(url)\n",
        "  if response.status_code == 200:\n",
        "    soup = BeautifulSoup(response.content, 'html.parser')\n",
        "    text = soup.get_text()\n",
        "    return text\n",
        "  else:\n",
        "    print(\"Failed to download.\")\n",
        "    return None\n",
        "\n",
        "\n",
        "def save_text_to_file(text, filename):\n",
        "  with open(filename, 'w', encoding = 'utf-8') as file:\n",
        "    file.write(text)\n",
        "  print(\"Text saved to\" , filename)\n"
      ],
      "metadata": {
        "id": "NH1c-dKi9AJE"
      },
      "execution_count": 25,
      "outputs": []
    },
    {
      "cell_type": "code",
      "source": [
        "url = fetch_url\n",
        "filename = \"heart_transplant.txt\"\n",
        "\n",
        "webpage_text = download_webpage(url)\n",
        "if webpage_text:\n",
        "  save_text_to_file(webpage_text, filename)"
      ],
      "metadata": {
        "colab": {
          "base_uri": "https://localhost:8080/"
        },
        "id": "49VptNat9ANG",
        "outputId": "67b0b4ad-ee89-44d6-9e02-e4ed6d8c7ae3"
      },
      "execution_count": 26,
      "outputs": [
        {
          "output_type": "stream",
          "name": "stdout",
          "text": [
            "Text saved to heart_transplant.txt\n"
          ]
        }
      ]
    },
    {
      "cell_type": "code",
      "source": [],
      "metadata": {
        "id": "rYPKA7tg9uE0"
      },
      "execution_count": null,
      "outputs": []
    },
    {
      "cell_type": "code",
      "source": [],
      "metadata": {
        "id": "xARu7BP98r9w"
      },
      "execution_count": null,
      "outputs": []
    },
    {
      "cell_type": "markdown",
      "metadata": {
        "id": "bz12HMp3oauo"
      },
      "source": []
    },
    {
      "cell_type": "code",
      "execution_count": null,
      "metadata": {
        "id": "1snkoCw8obvJ"
      },
      "outputs": [],
      "source": []
    },
    {
      "cell_type": "code",
      "execution_count": 35,
      "metadata": {
        "colab": {
          "base_uri": "https://localhost:8080/"
        },
        "id": "UjpMUJd1ocIb",
        "outputId": "a6eacf0c-3493-4133-eb65-53f0111bde9c"
      },
      "outputs": [
        {
          "output_type": "stream",
          "name": "stdout",
          "text": [
            "Query:\"Types+of+Depression\"\n"
          ]
        }
      ],
      "source": [
        "query1 = \"Types of Depression\"\n",
        "\n",
        "query1 = format_query(query1)\n",
        "print(\"Query:\" + query1)"
      ]
    },
    {
      "cell_type": "code",
      "execution_count": 36,
      "metadata": {
        "colab": {
          "base_uri": "https://localhost:8080/"
        },
        "id": "6cDmghX1ocIc",
        "outputId": "8e9e03de-63b5-49c8-dc58-cbc38f843d8c"
      },
      "outputs": [
        {
          "output_type": "stream",
          "name": "stdout",
          "text": [
            "http://eutils.ncbi.nlm.nih.gov/entrez/eutils/esearch.fcgi?db=pubmed&term=\"Types+of+Depression\"+AND+<1900:1989[pdat]&usehistory=y&rettype=json\n"
          ]
        }
      ],
      "source": [
        "base_url = 'http://eutils.ncbi.nlm.nih.gov/entrez/eutils/'\n",
        "db = 'db=pubmed'\n",
        "\n",
        "search_eutil = 'esearch.fcgi?'\n",
        "search_term = '&term=' + query1 + '+AND+<1900:1989[pdat]'\n",
        "search_usehistory = '&usehistory=y'\n",
        "search_rettype = '&rettype=json'\n",
        "\n",
        "search_url = base_url+search_eutil+db+search_term+search_usehistory+search_rettype\n",
        "print(search_url)"
      ]
    },
    {
      "cell_type": "code",
      "execution_count": 37,
      "metadata": {
        "id": "kdajhdSGocId"
      },
      "outputs": [],
      "source": [
        "f1 = urllib.request.urlopen(search_url)\n",
        "search_data = f1.read().decode('utf-8')"
      ]
    },
    {
      "cell_type": "code",
      "execution_count": 38,
      "metadata": {
        "colab": {
          "base_uri": "https://localhost:8080/"
        },
        "id": "vQ7psdfrocId",
        "outputId": "2812c52d-63f8-4bcf-e8ab-b42ddc14acfd"
      },
      "outputs": [
        {
          "output_type": "stream",
          "name": "stdout",
          "text": [
            "70\n"
          ]
        }
      ],
      "source": [
        "total_abstract_count = int(re.findall(\"<Count>(\\d+?)</Count>\", search_data)[0])\n",
        "print(total_abstract_count)"
      ]
    },
    {
      "cell_type": "code",
      "execution_count": 39,
      "metadata": {
        "id": "2FkdtI11ocId"
      },
      "outputs": [],
      "source": [
        "fetch_webenv = '&WebEnv=' + re.findall(\"<WebEnv>(\\S+)<\\/WebEnv>\", search_data)[0]\n",
        "fetch_querykey = '&query_key=' + re.findall(\"<QueryKey>(\\d+?)</QueryKey>\", search_data)[0]"
      ]
    },
    {
      "cell_type": "markdown",
      "metadata": {
        "id": "-RSQeMfqocId"
      },
      "source": [
        "efetch settings need to be added"
      ]
    },
    {
      "cell_type": "code",
      "execution_count": 40,
      "metadata": {
        "id": "BpxAj74MocId"
      },
      "outputs": [],
      "source": [
        "fetch_eutil = 'efetch.fcgi?'\n",
        "retmax = 100\n",
        "retstart = 0\n",
        "fetch_retstart = \"&retstart=\" + str(retstart)\n",
        "fetch_retmax = \"&retmax=\" + str(retmax)\n",
        "fetch_retmode = \"&retmode=text\"\n",
        "fetch_rettype = \"&rettype=abstract\"\n",
        "\n",
        "fetch_url = base_url + fetch_eutil+db+fetch_querykey+fetch_webenv+fetch_retstart+fetch_retmax+fetch_retmode+fetch_rettype"
      ]
    },
    {
      "cell_type": "code",
      "execution_count": 41,
      "metadata": {
        "colab": {
          "base_uri": "https://localhost:8080/"
        },
        "id": "spdkkf_mocIe",
        "outputId": "c5e9b32d-d394-47cd-f353-daa852db4563"
      },
      "outputs": [
        {
          "output_type": "stream",
          "name": "stdout",
          "text": [
            "Text saved to abstracts1.txt\n"
          ]
        }
      ],
      "source": [
        "url = fetch_url\n",
        "filename = \"abstracts1.txt\"\n",
        "\n",
        "webpage_text = download_webpage(url)\n",
        "if webpage_text:\n",
        "  save_text_to_file(webpage_text, filename)"
      ]
    },
    {
      "cell_type": "code",
      "execution_count": 42,
      "metadata": {
        "id": "M9-ulLMA3Jna"
      },
      "outputs": [],
      "source": [
        "query3 = \"Heart transplant\"\n",
        "query3 = format_query(query3)"
      ]
    },
    {
      "cell_type": "code",
      "execution_count": null,
      "metadata": {
        "id": "wjBqV0603Jna"
      },
      "outputs": [],
      "source": []
    },
    {
      "cell_type": "code",
      "execution_count": null,
      "metadata": {
        "id": "QEqx-DCw3Jna"
      },
      "outputs": [],
      "source": []
    },
    {
      "cell_type": "code",
      "execution_count": null,
      "metadata": {
        "id": "3BNDdCWd3Jnb"
      },
      "outputs": [],
      "source": []
    },
    {
      "cell_type": "code",
      "execution_count": null,
      "metadata": {
        "id": "HcgMDoMw3Jnb"
      },
      "outputs": [],
      "source": []
    },
    {
      "cell_type": "code",
      "execution_count": null,
      "metadata": {
        "id": "2k_2o_-Q3Jnb"
      },
      "outputs": [],
      "source": []
    },
    {
      "cell_type": "code",
      "execution_count": null,
      "metadata": {
        "id": "bu6nACz23Jnb"
      },
      "outputs": [],
      "source": []
    },
    {
      "cell_type": "code",
      "execution_count": null,
      "metadata": {
        "id": "IMPR5jTB3Jnb"
      },
      "outputs": [],
      "source": []
    }
  ],
  "metadata": {
    "colab": {
      "provenance": [],
      "include_colab_link": true
    },
    "kernelspec": {
      "display_name": "Python 3",
      "name": "python3"
    },
    "language_info": {
      "codemirror_mode": {
        "name": "ipython",
        "version": 3
      },
      "file_extension": ".py",
      "mimetype": "text/x-python",
      "name": "python",
      "nbconvert_exporter": "python",
      "pygments_lexer": "ipython3",
      "version": "3.11.7"
    }
  },
  "nbformat": 4,
  "nbformat_minor": 0
}